{
 "cells": [
  {
   "cell_type": "code",
   "execution_count": 20,
   "id": "f520904f-5f3c-4ac6-a6ac-d052edbebd21",
   "metadata": {
    "tags": []
   },
   "outputs": [],
   "source": [
    "import tensorflow as tf\n",
    "import numpy as np"
   ]
  },
  {
   "cell_type": "code",
   "execution_count": 37,
   "id": "d8731d68-3ec4-4c23-9411-61916811ded0",
   "metadata": {
    "tags": []
   },
   "outputs": [],
   "source": [
    "input_1 = tf.keras.layers.Input(shape=(32,100))"
   ]
  },
  {
   "cell_type": "code",
   "execution_count": 38,
   "id": "df8fec0b-89de-42b7-b8f9-d577139a03ff",
   "metadata": {
    "tags": []
   },
   "outputs": [
    {
     "data": {
      "text/plain": [
       "<tf.Tensor: shape=(32,), dtype=float64, numpy=\n",
       "array([0.33577143, 0.34116865, 0.29349454, 0.2966496 , 0.34730542,\n",
       "       0.30955448, 0.3362732 , 0.33461221, 0.32022571, 0.35399895,\n",
       "       0.32862823, 0.39321025, 0.30989931, 0.36137959, 0.33677497,\n",
       "       0.31201621, 0.36634842, 0.34591091, 0.32519738, 0.35476619,\n",
       "       0.31032825, 0.27911751, 0.34947427, 0.36901363, 0.35249742,\n",
       "       0.36372147, 0.34675615, 0.29406619, 0.2889773 , 0.33518585,\n",
       "       0.3308464 , 0.2986401 ])>"
      ]
     },
     "execution_count": 38,
     "metadata": {},
     "output_type": "execute_result"
    }
   ],
   "source": [
    "y = tf.math.square(input_1)\n",
    "\n",
    "x=\n",
    "y_true = np.random.randint(0, 2, size=(1,100))\n",
    "y_pred = np.random.random(size=(1,100))\n",
    "\n",
    "\n",
    "\n",
    "loss = tf.keras.losses.mean_squared_error(y_true, y_pred)\n",
    "loss"
   ]
  },
  {
   "cell_type": "code",
   "execution_count": 39,
   "id": "bdc61da6-5c34-49c1-a987-12d5c779dcb8",
   "metadata": {
    "tags": []
   },
   "outputs": [],
   "source": [
    "model = tf.keras.Model(input_1,y)\n",
    "model.compile(loss='sparse_categorical_crossentropy')\n"
   ]
  },
  {
   "cell_type": "code",
   "execution_count": 40,
   "id": "e49be5bf-d04d-4811-b951-7b7055474db4",
   "metadata": {
    "tags": []
   },
   "outputs": [
    {
     "ename": "ValueError",
     "evalue": "in user code:\n\n    File \"/home/jorge/anaconda3/envs/JorgeEnv/lib/python3.11/site-packages/keras/engine/training.py\", line 1284, in train_function  *\n        return step_function(self, iterator)\n    File \"/home/jorge/anaconda3/envs/JorgeEnv/lib/python3.11/site-packages/keras/engine/training.py\", line 1268, in step_function  **\n        outputs = model.distribute_strategy.run(run_step, args=(data,))\n    File \"/home/jorge/anaconda3/envs/JorgeEnv/lib/python3.11/site-packages/keras/engine/training.py\", line 1249, in run_step  **\n        outputs = model.train_step(data)\n    File \"/home/jorge/anaconda3/envs/JorgeEnv/lib/python3.11/site-packages/keras/engine/training.py\", line 1050, in train_step\n        y_pred = self(x, training=True)\n    File \"/home/jorge/anaconda3/envs/JorgeEnv/lib/python3.11/site-packages/keras/utils/traceback_utils.py\", line 70, in error_handler\n        raise e.with_traceback(filtered_tb) from None\n    File \"/home/jorge/anaconda3/envs/JorgeEnv/lib/python3.11/site-packages/keras/engine/input_spec.py\", line 298, in assert_input_compatibility\n        raise ValueError(\n\n    ValueError: Input 0 of layer \"model_7\" is incompatible with the layer: expected shape=(None, 32, 100), found shape=(32, 100)\n",
     "output_type": "error",
     "traceback": [
      "\u001b[0;31m---------------------------------------------------------------------------\u001b[0m",
      "\u001b[0;31mValueError\u001b[0m                                Traceback (most recent call last)",
      "Cell \u001b[0;32mIn[40], line 1\u001b[0m\n\u001b[0;32m----> 1\u001b[0m model\u001b[38;5;241m.\u001b[39mfit(x)\n",
      "File \u001b[0;32m~/anaconda3/envs/JorgeEnv/lib/python3.11/site-packages/keras/utils/traceback_utils.py:70\u001b[0m, in \u001b[0;36mfilter_traceback.<locals>.error_handler\u001b[0;34m(*args, **kwargs)\u001b[0m\n\u001b[1;32m     67\u001b[0m     filtered_tb \u001b[38;5;241m=\u001b[39m _process_traceback_frames(e\u001b[38;5;241m.\u001b[39m__traceback__)\n\u001b[1;32m     68\u001b[0m     \u001b[38;5;66;03m# To get the full stack trace, call:\u001b[39;00m\n\u001b[1;32m     69\u001b[0m     \u001b[38;5;66;03m# `tf.debugging.disable_traceback_filtering()`\u001b[39;00m\n\u001b[0;32m---> 70\u001b[0m     \u001b[38;5;28;01mraise\u001b[39;00m e\u001b[38;5;241m.\u001b[39mwith_traceback(filtered_tb) \u001b[38;5;28;01mfrom\u001b[39;00m \u001b[38;5;28;01mNone\u001b[39;00m\n\u001b[1;32m     71\u001b[0m \u001b[38;5;28;01mfinally\u001b[39;00m:\n\u001b[1;32m     72\u001b[0m     \u001b[38;5;28;01mdel\u001b[39;00m filtered_tb\n",
      "File \u001b[0;32m/tmp/__autograph_generated_filend6vmvmp.py:15\u001b[0m, in \u001b[0;36mouter_factory.<locals>.inner_factory.<locals>.tf__train_function\u001b[0;34m(iterator)\u001b[0m\n\u001b[1;32m     13\u001b[0m \u001b[38;5;28;01mtry\u001b[39;00m:\n\u001b[1;32m     14\u001b[0m     do_return \u001b[38;5;241m=\u001b[39m \u001b[38;5;28;01mTrue\u001b[39;00m\n\u001b[0;32m---> 15\u001b[0m     retval_ \u001b[38;5;241m=\u001b[39m ag__\u001b[38;5;241m.\u001b[39mconverted_call(ag__\u001b[38;5;241m.\u001b[39mld(step_function), (ag__\u001b[38;5;241m.\u001b[39mld(\u001b[38;5;28mself\u001b[39m), ag__\u001b[38;5;241m.\u001b[39mld(iterator)), \u001b[38;5;28;01mNone\u001b[39;00m, fscope)\n\u001b[1;32m     16\u001b[0m \u001b[38;5;28;01mexcept\u001b[39;00m:\n\u001b[1;32m     17\u001b[0m     do_return \u001b[38;5;241m=\u001b[39m \u001b[38;5;28;01mFalse\u001b[39;00m\n",
      "\u001b[0;31mValueError\u001b[0m: in user code:\n\n    File \"/home/jorge/anaconda3/envs/JorgeEnv/lib/python3.11/site-packages/keras/engine/training.py\", line 1284, in train_function  *\n        return step_function(self, iterator)\n    File \"/home/jorge/anaconda3/envs/JorgeEnv/lib/python3.11/site-packages/keras/engine/training.py\", line 1268, in step_function  **\n        outputs = model.distribute_strategy.run(run_step, args=(data,))\n    File \"/home/jorge/anaconda3/envs/JorgeEnv/lib/python3.11/site-packages/keras/engine/training.py\", line 1249, in run_step  **\n        outputs = model.train_step(data)\n    File \"/home/jorge/anaconda3/envs/JorgeEnv/lib/python3.11/site-packages/keras/engine/training.py\", line 1050, in train_step\n        y_pred = self(x, training=True)\n    File \"/home/jorge/anaconda3/envs/JorgeEnv/lib/python3.11/site-packages/keras/utils/traceback_utils.py\", line 70, in error_handler\n        raise e.with_traceback(filtered_tb) from None\n    File \"/home/jorge/anaconda3/envs/JorgeEnv/lib/python3.11/site-packages/keras/engine/input_spec.py\", line 298, in assert_input_compatibility\n        raise ValueError(\n\n    ValueError: Input 0 of layer \"model_7\" is incompatible with the layer: expected shape=(None, 32, 100), found shape=(32, 100)\n"
     ]
    }
   ],
   "source": [
    "model.fit(x)"
   ]
  },
  {
   "cell_type": "code",
   "execution_count": null,
   "id": "4ef5161f-a949-4f94-82bc-480930b9f83b",
   "metadata": {},
   "outputs": [],
   "source": []
  }
 ],
 "metadata": {
  "kernelspec": {
   "display_name": "Python 3 (ipykernel)",
   "language": "python",
   "name": "python3"
  },
  "language_info": {
   "codemirror_mode": {
    "name": "ipython",
    "version": 3
   },
   "file_extension": ".py",
   "mimetype": "text/x-python",
   "name": "python",
   "nbconvert_exporter": "python",
   "pygments_lexer": "ipython3",
   "version": "3.11.3"
  }
 },
 "nbformat": 4,
 "nbformat_minor": 5
}
