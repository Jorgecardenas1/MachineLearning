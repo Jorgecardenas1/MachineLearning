{
 "cells": [
  {
   "cell_type": "code",
   "execution_count": 34,
   "id": "f520904f-5f3c-4ac6-a6ac-d052edbebd21",
   "metadata": {
    "tags": []
   },
   "outputs": [],
   "source": [
    "import tensorflow as tf\n",
    "import numpy as np"
   ]
  },
  {
   "cell_type": "code",
   "execution_count": 35,
   "id": "d8731d68-3ec4-4c23-9411-61916811ded0",
   "metadata": {
    "tags": []
   },
   "outputs": [],
   "source": [
    "input_1 = tf.keras.layers.Input(shape=(3,))"
   ]
  },
  {
   "attachments": {},
   "cell_type": "markdown",
   "id": "586b677b",
   "metadata": {},
   "source": [
    "Initialize vectors\n",
    "https://towardsdatascience.com/how-to-use-dataset-in-tensorflow-c758ef9e4428"
   ]
  },
  {
   "cell_type": "code",
   "execution_count": 36,
   "id": "df8fec0b-89de-42b7-b8f9-d577139a03ff",
   "metadata": {
    "tags": []
   },
   "outputs": [],
   "source": [
    "y = tf.math.square(input_1)\n",
    "\n",
    "x= np.random.normal(0,1, (100, 3))\n",
    "y_true = np.random.randint(0, 2, (100,1))\n",
    "y_pred = np.random.random(size=(100,1))\n",
    "\n",
    "loss = tf.keras.losses.mean_squared_error(y_true, y_pred)\n"
   ]
  },
  {
   "cell_type": "code",
   "execution_count": 42,
   "id": "bc48168c-0e3c-4f9e-9850-74e07b2521d7",
   "metadata": {
    "tags": []
   },
   "outputs": [],
   "source": [
    "dataset = tf.data.Dataset.from_tensor_slices((x,y_true)) \n"
   ]
  },
  {
   "cell_type": "code",
   "execution_count": 44,
   "id": "5c6d485c",
   "metadata": {},
   "outputs": [
    {
     "name": "stdout",
     "output_type": "stream",
     "text": [
      "(<tf.Tensor: shape=(3,), dtype=float64, numpy=array([-1.44824861,  1.60796533,  1.61293318])>, <tf.Tensor: shape=(1,), dtype=int64, numpy=array([1])>)\n",
      "(<tf.Tensor: shape=(3,), dtype=float64, numpy=array([-0.10981098, -1.03858279, -0.73854841])>, <tf.Tensor: shape=(1,), dtype=int64, numpy=array([0])>)\n",
      "(<tf.Tensor: shape=(3,), dtype=float64, numpy=array([-0.2156173 , -1.09798854,  0.30278789])>, <tf.Tensor: shape=(1,), dtype=int64, numpy=array([1])>)\n",
      "(<tf.Tensor: shape=(3,), dtype=float64, numpy=array([-0.31575191,  1.20247733, -0.97247834])>, <tf.Tensor: shape=(1,), dtype=int64, numpy=array([0])>)\n",
      "(<tf.Tensor: shape=(3,), dtype=float64, numpy=array([0.35937466, 1.29827107, 1.77654828])>, <tf.Tensor: shape=(1,), dtype=int64, numpy=array([1])>)\n",
      "(<tf.Tensor: shape=(3,), dtype=float64, numpy=array([-0.23827392, -1.14523488, -0.3182119 ])>, <tf.Tensor: shape=(1,), dtype=int64, numpy=array([1])>)\n",
      "(<tf.Tensor: shape=(3,), dtype=float64, numpy=array([ 0.30044406,  0.49190634, -0.99649511])>, <tf.Tensor: shape=(1,), dtype=int64, numpy=array([0])>)\n",
      "(<tf.Tensor: shape=(3,), dtype=float64, numpy=array([-0.79277938,  1.42970794, -0.50275413])>, <tf.Tensor: shape=(1,), dtype=int64, numpy=array([0])>)\n",
      "(<tf.Tensor: shape=(3,), dtype=float64, numpy=array([-2.02125915, -0.85872302,  0.77013882])>, <tf.Tensor: shape=(1,), dtype=int64, numpy=array([0])>)\n",
      "(<tf.Tensor: shape=(3,), dtype=float64, numpy=array([1.50621838, 0.25615315, 0.24903102])>, <tf.Tensor: shape=(1,), dtype=int64, numpy=array([0])>)\n",
      "(<tf.Tensor: shape=(3,), dtype=float64, numpy=array([ 1.83745623,  0.81199761, -0.18249274])>, <tf.Tensor: shape=(1,), dtype=int64, numpy=array([0])>)\n",
      "(<tf.Tensor: shape=(3,), dtype=float64, numpy=array([ 0.60837571,  0.87632576, -1.09930077])>, <tf.Tensor: shape=(1,), dtype=int64, numpy=array([0])>)\n",
      "(<tf.Tensor: shape=(3,), dtype=float64, numpy=array([ 0.76512845, -1.06759094,  0.74072545])>, <tf.Tensor: shape=(1,), dtype=int64, numpy=array([0])>)\n",
      "(<tf.Tensor: shape=(3,), dtype=float64, numpy=array([-0.81081323,  0.22334001,  0.23451011])>, <tf.Tensor: shape=(1,), dtype=int64, numpy=array([1])>)\n",
      "(<tf.Tensor: shape=(3,), dtype=float64, numpy=array([2.76799691, 0.91748963, 0.60741087])>, <tf.Tensor: shape=(1,), dtype=int64, numpy=array([0])>)\n",
      "(<tf.Tensor: shape=(3,), dtype=float64, numpy=array([ 0.22656887, -0.57822327, -1.84537996])>, <tf.Tensor: shape=(1,), dtype=int64, numpy=array([0])>)\n",
      "(<tf.Tensor: shape=(3,), dtype=float64, numpy=array([0.1178989 , 1.52186441, 0.15857134])>, <tf.Tensor: shape=(1,), dtype=int64, numpy=array([0])>)\n",
      "(<tf.Tensor: shape=(3,), dtype=float64, numpy=array([ 0.68612916, -0.77193692, -0.4608251 ])>, <tf.Tensor: shape=(1,), dtype=int64, numpy=array([1])>)\n",
      "(<tf.Tensor: shape=(3,), dtype=float64, numpy=array([ 1.04232491, -0.67798093,  0.43841179])>, <tf.Tensor: shape=(1,), dtype=int64, numpy=array([1])>)\n",
      "(<tf.Tensor: shape=(3,), dtype=float64, numpy=array([-1.32280061, -1.01632752, -0.01670959])>, <tf.Tensor: shape=(1,), dtype=int64, numpy=array([0])>)\n",
      "(<tf.Tensor: shape=(3,), dtype=float64, numpy=array([-0.80441584,  0.96820884,  0.47519469])>, <tf.Tensor: shape=(1,), dtype=int64, numpy=array([1])>)\n",
      "(<tf.Tensor: shape=(3,), dtype=float64, numpy=array([-0.28042032,  0.88348576, -0.41762873])>, <tf.Tensor: shape=(1,), dtype=int64, numpy=array([1])>)\n",
      "(<tf.Tensor: shape=(3,), dtype=float64, numpy=array([2.38448849, 0.67888086, 0.60852422])>, <tf.Tensor: shape=(1,), dtype=int64, numpy=array([1])>)\n",
      "(<tf.Tensor: shape=(3,), dtype=float64, numpy=array([-0.33372508,  0.57340715,  1.45062246])>, <tf.Tensor: shape=(1,), dtype=int64, numpy=array([0])>)\n",
      "(<tf.Tensor: shape=(3,), dtype=float64, numpy=array([ 1.96359967, -2.3101606 ,  0.59946071])>, <tf.Tensor: shape=(1,), dtype=int64, numpy=array([1])>)\n",
      "(<tf.Tensor: shape=(3,), dtype=float64, numpy=array([-1.27355376,  0.96275007,  0.93932164])>, <tf.Tensor: shape=(1,), dtype=int64, numpy=array([0])>)\n",
      "(<tf.Tensor: shape=(3,), dtype=float64, numpy=array([ 1.18165127, -0.63534398,  0.88737845])>, <tf.Tensor: shape=(1,), dtype=int64, numpy=array([0])>)\n",
      "(<tf.Tensor: shape=(3,), dtype=float64, numpy=array([-0.93604988, -0.51599575,  1.01192766])>, <tf.Tensor: shape=(1,), dtype=int64, numpy=array([0])>)\n",
      "(<tf.Tensor: shape=(3,), dtype=float64, numpy=array([-0.41902174, -0.81528565,  0.35322296])>, <tf.Tensor: shape=(1,), dtype=int64, numpy=array([0])>)\n",
      "(<tf.Tensor: shape=(3,), dtype=float64, numpy=array([0.17835744, 0.32175965, 1.2976296 ])>, <tf.Tensor: shape=(1,), dtype=int64, numpy=array([0])>)\n",
      "(<tf.Tensor: shape=(3,), dtype=float64, numpy=array([-0.83095537,  1.30137897,  0.72452856])>, <tf.Tensor: shape=(1,), dtype=int64, numpy=array([0])>)\n",
      "(<tf.Tensor: shape=(3,), dtype=float64, numpy=array([ 0.13515568,  0.36978645, -3.23914016])>, <tf.Tensor: shape=(1,), dtype=int64, numpy=array([0])>)\n",
      "(<tf.Tensor: shape=(3,), dtype=float64, numpy=array([0.45525905, 0.45191522, 0.42385052])>, <tf.Tensor: shape=(1,), dtype=int64, numpy=array([1])>)\n",
      "(<tf.Tensor: shape=(3,), dtype=float64, numpy=array([-0.6509577 , -0.88961203,  0.74475446])>, <tf.Tensor: shape=(1,), dtype=int64, numpy=array([1])>)\n",
      "(<tf.Tensor: shape=(3,), dtype=float64, numpy=array([0.0228388 , 0.04483722, 0.04583889])>, <tf.Tensor: shape=(1,), dtype=int64, numpy=array([0])>)\n",
      "(<tf.Tensor: shape=(3,), dtype=float64, numpy=array([-0.37289955, -1.45368693,  0.64047882])>, <tf.Tensor: shape=(1,), dtype=int64, numpy=array([0])>)\n",
      "(<tf.Tensor: shape=(3,), dtype=float64, numpy=array([ 2.66012375,  2.15287101, -1.10633065])>, <tf.Tensor: shape=(1,), dtype=int64, numpy=array([0])>)\n",
      "(<tf.Tensor: shape=(3,), dtype=float64, numpy=array([ 1.00152777,  1.42240814, -0.27650787])>, <tf.Tensor: shape=(1,), dtype=int64, numpy=array([0])>)\n",
      "(<tf.Tensor: shape=(3,), dtype=float64, numpy=array([-0.58834702,  0.97626075, -0.93959701])>, <tf.Tensor: shape=(1,), dtype=int64, numpy=array([1])>)\n",
      "(<tf.Tensor: shape=(3,), dtype=float64, numpy=array([ 0.38299259, -1.17679805, -0.75803949])>, <tf.Tensor: shape=(1,), dtype=int64, numpy=array([1])>)\n",
      "(<tf.Tensor: shape=(3,), dtype=float64, numpy=array([-1.39824474, -0.26162102, -0.55495002])>, <tf.Tensor: shape=(1,), dtype=int64, numpy=array([0])>)\n",
      "(<tf.Tensor: shape=(3,), dtype=float64, numpy=array([ 2.5949388 ,  1.07031988, -0.46605597])>, <tf.Tensor: shape=(1,), dtype=int64, numpy=array([0])>)\n",
      "(<tf.Tensor: shape=(3,), dtype=float64, numpy=array([0.75358666, 0.34153998, 1.48698321])>, <tf.Tensor: shape=(1,), dtype=int64, numpy=array([0])>)\n",
      "(<tf.Tensor: shape=(3,), dtype=float64, numpy=array([ 0.48102245, -0.40661877, -0.43521432])>, <tf.Tensor: shape=(1,), dtype=int64, numpy=array([0])>)\n",
      "(<tf.Tensor: shape=(3,), dtype=float64, numpy=array([ 0.00660873, -0.08300201,  0.23110969])>, <tf.Tensor: shape=(1,), dtype=int64, numpy=array([1])>)\n",
      "(<tf.Tensor: shape=(3,), dtype=float64, numpy=array([ 0.39153223, -0.09169624, -0.6520814 ])>, <tf.Tensor: shape=(1,), dtype=int64, numpy=array([1])>)\n",
      "(<tf.Tensor: shape=(3,), dtype=float64, numpy=array([ 0.32257068,  0.36271701, -0.2927473 ])>, <tf.Tensor: shape=(1,), dtype=int64, numpy=array([0])>)\n",
      "(<tf.Tensor: shape=(3,), dtype=float64, numpy=array([-0.48710164, -0.41378968,  0.99821423])>, <tf.Tensor: shape=(1,), dtype=int64, numpy=array([1])>)\n",
      "(<tf.Tensor: shape=(3,), dtype=float64, numpy=array([-0.32757305, -0.15868136,  0.00392513])>, <tf.Tensor: shape=(1,), dtype=int64, numpy=array([0])>)\n",
      "(<tf.Tensor: shape=(3,), dtype=float64, numpy=array([ 1.91757956, -0.5733276 , -1.04081389])>, <tf.Tensor: shape=(1,), dtype=int64, numpy=array([1])>)\n",
      "(<tf.Tensor: shape=(3,), dtype=float64, numpy=array([-1.13404774,  0.88604019, -0.51003222])>, <tf.Tensor: shape=(1,), dtype=int64, numpy=array([1])>)\n",
      "(<tf.Tensor: shape=(3,), dtype=float64, numpy=array([-1.35334372,  1.29940291,  0.88268438])>, <tf.Tensor: shape=(1,), dtype=int64, numpy=array([1])>)\n",
      "(<tf.Tensor: shape=(3,), dtype=float64, numpy=array([ 0.62642446, -0.90361613,  1.7620918 ])>, <tf.Tensor: shape=(1,), dtype=int64, numpy=array([1])>)\n",
      "(<tf.Tensor: shape=(3,), dtype=float64, numpy=array([ 0.95003056, -1.33262001, -0.84156503])>, <tf.Tensor: shape=(1,), dtype=int64, numpy=array([1])>)\n",
      "(<tf.Tensor: shape=(3,), dtype=float64, numpy=array([-2.03093149,  1.344415  , -0.00864993])>, <tf.Tensor: shape=(1,), dtype=int64, numpy=array([1])>)\n",
      "(<tf.Tensor: shape=(3,), dtype=float64, numpy=array([-0.73123504, -0.14618863,  0.40658609])>, <tf.Tensor: shape=(1,), dtype=int64, numpy=array([1])>)\n",
      "(<tf.Tensor: shape=(3,), dtype=float64, numpy=array([-0.89297898, -0.40726348,  0.49307327])>, <tf.Tensor: shape=(1,), dtype=int64, numpy=array([1])>)\n",
      "(<tf.Tensor: shape=(3,), dtype=float64, numpy=array([ 1.0415096 ,  0.60554451, -0.06428766])>, <tf.Tensor: shape=(1,), dtype=int64, numpy=array([1])>)\n",
      "(<tf.Tensor: shape=(3,), dtype=float64, numpy=array([-1.54279303, -0.6443207 , -0.65253753])>, <tf.Tensor: shape=(1,), dtype=int64, numpy=array([0])>)\n",
      "(<tf.Tensor: shape=(3,), dtype=float64, numpy=array([ 0.88633648,  0.39977205, -0.51685662])>, <tf.Tensor: shape=(1,), dtype=int64, numpy=array([0])>)\n",
      "(<tf.Tensor: shape=(3,), dtype=float64, numpy=array([ 0.29823029, -1.79807554, -0.84581143])>, <tf.Tensor: shape=(1,), dtype=int64, numpy=array([1])>)\n",
      "(<tf.Tensor: shape=(3,), dtype=float64, numpy=array([-0.6043543 ,  0.30132102, -1.50606708])>, <tf.Tensor: shape=(1,), dtype=int64, numpy=array([0])>)\n",
      "(<tf.Tensor: shape=(3,), dtype=float64, numpy=array([-0.18093216, -0.31557217,  0.44834468])>, <tf.Tensor: shape=(1,), dtype=int64, numpy=array([0])>)\n",
      "(<tf.Tensor: shape=(3,), dtype=float64, numpy=array([ 1.471841  , -0.49310226, -1.50952409])>, <tf.Tensor: shape=(1,), dtype=int64, numpy=array([0])>)\n",
      "(<tf.Tensor: shape=(3,), dtype=float64, numpy=array([-0.82076805, -1.75451502, -1.22862322])>, <tf.Tensor: shape=(1,), dtype=int64, numpy=array([1])>)\n",
      "(<tf.Tensor: shape=(3,), dtype=float64, numpy=array([-0.50199652,  0.09772687,  0.04499385])>, <tf.Tensor: shape=(1,), dtype=int64, numpy=array([1])>)\n",
      "(<tf.Tensor: shape=(3,), dtype=float64, numpy=array([0.19170886, 0.61300792, 0.36459372])>, <tf.Tensor: shape=(1,), dtype=int64, numpy=array([0])>)\n",
      "(<tf.Tensor: shape=(3,), dtype=float64, numpy=array([-0.53110539,  1.35354741, -0.06900545])>, <tf.Tensor: shape=(1,), dtype=int64, numpy=array([1])>)\n",
      "(<tf.Tensor: shape=(3,), dtype=float64, numpy=array([-0.06448793,  1.18094834,  0.25437151])>, <tf.Tensor: shape=(1,), dtype=int64, numpy=array([0])>)\n",
      "(<tf.Tensor: shape=(3,), dtype=float64, numpy=array([ 0.50371776, -1.5789659 , -0.25890178])>, <tf.Tensor: shape=(1,), dtype=int64, numpy=array([0])>)\n",
      "(<tf.Tensor: shape=(3,), dtype=float64, numpy=array([-0.80673508,  0.06228712, -0.71205798])>, <tf.Tensor: shape=(1,), dtype=int64, numpy=array([1])>)\n",
      "(<tf.Tensor: shape=(3,), dtype=float64, numpy=array([-1.38087546, -0.2254482 , -2.10778685])>, <tf.Tensor: shape=(1,), dtype=int64, numpy=array([1])>)\n",
      "(<tf.Tensor: shape=(3,), dtype=float64, numpy=array([1.05087627, 2.05750974, 1.87575565])>, <tf.Tensor: shape=(1,), dtype=int64, numpy=array([1])>)\n",
      "(<tf.Tensor: shape=(3,), dtype=float64, numpy=array([-0.12593695, -0.62631308,  0.9247176 ])>, <tf.Tensor: shape=(1,), dtype=int64, numpy=array([1])>)\n",
      "(<tf.Tensor: shape=(3,), dtype=float64, numpy=array([-0.85655431,  0.23599876, -1.06801328])>, <tf.Tensor: shape=(1,), dtype=int64, numpy=array([0])>)\n",
      "(<tf.Tensor: shape=(3,), dtype=float64, numpy=array([-1.11853501, -0.90626886, -0.11281484])>, <tf.Tensor: shape=(1,), dtype=int64, numpy=array([0])>)\n",
      "(<tf.Tensor: shape=(3,), dtype=float64, numpy=array([-0.39676625, -0.97760292,  0.72572989])>, <tf.Tensor: shape=(1,), dtype=int64, numpy=array([1])>)\n",
      "(<tf.Tensor: shape=(3,), dtype=float64, numpy=array([-0.74381068,  0.33736878,  0.05709543])>, <tf.Tensor: shape=(1,), dtype=int64, numpy=array([1])>)\n",
      "(<tf.Tensor: shape=(3,), dtype=float64, numpy=array([-0.9973223 , -0.50388818, -0.71580399])>, <tf.Tensor: shape=(1,), dtype=int64, numpy=array([1])>)\n",
      "(<tf.Tensor: shape=(3,), dtype=float64, numpy=array([0.49340277, 1.25486381, 0.51274913])>, <tf.Tensor: shape=(1,), dtype=int64, numpy=array([1])>)\n",
      "(<tf.Tensor: shape=(3,), dtype=float64, numpy=array([ 0.30293263, -0.82067327, -0.93312336])>, <tf.Tensor: shape=(1,), dtype=int64, numpy=array([1])>)\n",
      "(<tf.Tensor: shape=(3,), dtype=float64, numpy=array([0.06158936, 0.14926418, 0.52691697])>, <tf.Tensor: shape=(1,), dtype=int64, numpy=array([1])>)\n",
      "(<tf.Tensor: shape=(3,), dtype=float64, numpy=array([-0.44235802,  0.48730477, -1.66553219])>, <tf.Tensor: shape=(1,), dtype=int64, numpy=array([0])>)\n",
      "(<tf.Tensor: shape=(3,), dtype=float64, numpy=array([-0.39412304, -0.13011015,  0.40512778])>, <tf.Tensor: shape=(1,), dtype=int64, numpy=array([0])>)\n",
      "(<tf.Tensor: shape=(3,), dtype=float64, numpy=array([-1.51200439,  1.03134213, -1.27189432])>, <tf.Tensor: shape=(1,), dtype=int64, numpy=array([0])>)\n",
      "(<tf.Tensor: shape=(3,), dtype=float64, numpy=array([-0.07912281,  0.32584621,  2.26890192])>, <tf.Tensor: shape=(1,), dtype=int64, numpy=array([1])>)\n",
      "(<tf.Tensor: shape=(3,), dtype=float64, numpy=array([-1.04530832,  1.63889561, -0.01121828])>, <tf.Tensor: shape=(1,), dtype=int64, numpy=array([1])>)\n",
      "(<tf.Tensor: shape=(3,), dtype=float64, numpy=array([-0.20177367,  1.27753131,  0.06024239])>, <tf.Tensor: shape=(1,), dtype=int64, numpy=array([1])>)\n",
      "(<tf.Tensor: shape=(3,), dtype=float64, numpy=array([-0.03194672, -1.59198713, -0.58289905])>, <tf.Tensor: shape=(1,), dtype=int64, numpy=array([0])>)\n",
      "(<tf.Tensor: shape=(3,), dtype=float64, numpy=array([-0.21503063,  0.20857844, -0.31015747])>, <tf.Tensor: shape=(1,), dtype=int64, numpy=array([1])>)\n",
      "(<tf.Tensor: shape=(3,), dtype=float64, numpy=array([-0.85979557, -0.23428561, -0.81553321])>, <tf.Tensor: shape=(1,), dtype=int64, numpy=array([0])>)\n",
      "(<tf.Tensor: shape=(3,), dtype=float64, numpy=array([0.39428092, 0.70935233, 0.84550133])>, <tf.Tensor: shape=(1,), dtype=int64, numpy=array([1])>)\n",
      "(<tf.Tensor: shape=(3,), dtype=float64, numpy=array([-0.48894309, -0.97930553,  1.04926106])>, <tf.Tensor: shape=(1,), dtype=int64, numpy=array([1])>)\n",
      "(<tf.Tensor: shape=(3,), dtype=float64, numpy=array([ 2.05772488,  2.5260887 , -1.37272736])>, <tf.Tensor: shape=(1,), dtype=int64, numpy=array([1])>)\n",
      "(<tf.Tensor: shape=(3,), dtype=float64, numpy=array([-0.26506552,  2.1983584 ,  0.4691987 ])>, <tf.Tensor: shape=(1,), dtype=int64, numpy=array([0])>)\n",
      "(<tf.Tensor: shape=(3,), dtype=float64, numpy=array([ 1.96028522, -0.73414942, -1.35938097])>, <tf.Tensor: shape=(1,), dtype=int64, numpy=array([0])>)\n",
      "(<tf.Tensor: shape=(3,), dtype=float64, numpy=array([-0.20238731, -1.66016905,  0.28297116])>, <tf.Tensor: shape=(1,), dtype=int64, numpy=array([0])>)\n",
      "(<tf.Tensor: shape=(3,), dtype=float64, numpy=array([ 0.84914204, -1.76973488, -0.13111324])>, <tf.Tensor: shape=(1,), dtype=int64, numpy=array([0])>)\n",
      "(<tf.Tensor: shape=(3,), dtype=float64, numpy=array([-0.02401614, -1.39151838,  0.63746862])>, <tf.Tensor: shape=(1,), dtype=int64, numpy=array([1])>)\n",
      "(<tf.Tensor: shape=(3,), dtype=float64, numpy=array([-0.5223518 , -0.25626371,  0.31977665])>, <tf.Tensor: shape=(1,), dtype=int64, numpy=array([1])>)\n"
     ]
    }
   ],
   "source": [
    "for i in dataset:\n",
    "    print(i)"
   ]
  },
  {
   "cell_type": "code",
   "execution_count": 53,
   "metadata": {},
   "outputs": [
    {
     "name": "stdout",
     "output_type": "stream",
     "text": [
      "Model: \"sequential_2\"\n",
      "_________________________________________________________________\n",
      " Layer (type)                Output Shape              Param #   \n",
      "=================================================================\n",
      " dense_6 (Dense)             (None, 64)                256       \n",
      "                                                                 \n",
      " dense_7 (Dense)             (None, 64)                4160      \n",
      "                                                                 \n",
      " dense_8 (Dense)             (None, 1)                 65        \n",
      "                                                                 \n",
      "=================================================================\n",
      "Total params: 4,481\n",
      "Trainable params: 4,481\n",
      "Non-trainable params: 0\n",
      "_________________________________________________________________\n"
     ]
    }
   ],
   "source": [
    "model = tf.keras.models.Sequential(\n",
    "    [\n",
    "        tf.keras.layers.Dense(64, activation='relu', input_shape=(3,)),\n",
    "        tf.keras.layers.Dense(64, activation='relu'),\n",
    "        tf.keras.layers.Dense(1)\n",
    "    ]\n",
    ")\n",
    "model.compile(optimizer='adam', loss='binary_crossentropy')\n",
    "model.summary()"
   ]
  },
  {
   "cell_type": "code",
   "execution_count": 57,
   "id": "e49be5bf-d04d-4811-b951-7b7055474db4",
   "metadata": {
    "tags": []
   },
   "outputs": [
    {
     "name": "stdout",
     "output_type": "stream",
     "text": [
      "Epoch 1/10\n",
      "10/10 [==============================] - 3s 19ms/step - loss: 3.8988\n",
      "Epoch 2/10\n",
      "10/10 [==============================] - 0s 5ms/step - loss: 0.8691\n",
      "Epoch 3/10\n",
      "10/10 [==============================] - 0s 7ms/step - loss: 0.7926\n",
      "Epoch 4/10\n",
      "10/10 [==============================] - 0s 9ms/step - loss: 0.7490\n",
      "Epoch 5/10\n",
      "10/10 [==============================] - 0s 4ms/step - loss: 0.7115\n",
      "Epoch 6/10\n",
      "10/10 [==============================] - 0s 4ms/step - loss: 0.7024\n",
      "Epoch 7/10\n",
      "10/10 [==============================] - 0s 5ms/step - loss: 0.6987\n",
      "Epoch 8/10\n",
      "10/10 [==============================] - 0s 5ms/step - loss: 0.6885\n",
      "Epoch 9/10\n",
      "10/10 [==============================] - 0s 5ms/step - loss: 0.6801\n",
      "Epoch 10/10\n",
      "10/10 [==============================] - 0s 8ms/step - loss: 0.6773\n"
     ]
    },
    {
     "data": {
      "text/plain": [
       "<keras.callbacks.History at 0x7f9bbb5cc690>"
      ]
     },
     "execution_count": 57,
     "metadata": {},
     "output_type": "execute_result"
    }
   ],
   "source": [
    "model.fit(x,y_true,epochs=10,batch_size=10)"
   ]
  },
  {
   "cell_type": "code",
   "execution_count": null,
   "id": "4ef5161f-a949-4f94-82bc-480930b9f83b",
   "metadata": {},
   "outputs": [],
   "source": []
  }
 ],
 "metadata": {
  "kernelspec": {
   "display_name": "Python 3 (ipykernel)",
   "language": "python",
   "name": "python3"
  },
  "language_info": {
   "codemirror_mode": {
    "name": "ipython",
    "version": 3
   },
   "file_extension": ".py",
   "mimetype": "text/x-python",
   "name": "python",
   "nbconvert_exporter": "python",
   "pygments_lexer": "ipython3",
   "version": "3.11.3"
  }
 },
 "nbformat": 4,
 "nbformat_minor": 5
}
